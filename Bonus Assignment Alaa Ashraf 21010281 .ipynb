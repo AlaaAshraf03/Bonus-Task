{
 "cells": [
  {
   "cell_type": "markdown",
   "id": "f53bf4e4",
   "metadata": {},
   "source": [
    "# Nuclear Fuel Definition & S(α, β) Scattering\n",
    "\n",
    "This notebook covers:\n",
    "1. Defining **4.5% enriched uranium** in three different ways using OpenMC.\n",
    "2. Explaining & Applying **S(α, β) cross sections** in OpenMc code.\n"
   ]
  },
  {
   "cell_type": "code",
   "execution_count": 9,
   "id": "7ad0399b",
   "metadata": {},
   "outputs": [
    {
     "name": "stdout",
     "output_type": "stream",
     "text": [
      "Material\n",
      "\tID             =\t11\n",
      "\tName           =\tUO2 using enrichment\n",
      "\tTemperature    =\tNone\n",
      "\tDensity        =\t10.5 [g/cm3]\n",
      "\tVolume         =\tNone [cm^3]\n",
      "\tDepletable     =\tTrue\n",
      "\tS(a,b) Tables  \n",
      "\tNuclides       \n",
      "\tU234           =\t0.00040712390870120436 [ao]\n",
      "\tU235           =\t0.045549059817946165 [ao]\n",
      "\tU238           =\t0.953835179701444 [ao]\n",
      "\tU236           =\t0.00020863657190853607 [ao]\n",
      "\n"
     ]
    }
   ],
   "source": [
    "# Method 1: Using add_element with enrichment parameter\n",
    "import openmc\n",
    "fuel1 =openmc.Material(name=\"UO2 using enrichment\")\n",
    "fuel1.add_element('U', 1.0, enrichment=4.5)\n",
    "fuel1.set_density('g/cm3', 10.5)\n",
    "print(fuel1)"
   ]
  },
  {
   "cell_type": "code",
   "execution_count": 8,
   "id": "e83385cc",
   "metadata": {},
   "outputs": [
    {
     "name": "stdout",
     "output_type": "stream",
     "text": [
      "Material\n",
      "\tID             =\t10\n",
      "\tName           =\tUO2 4.5% enriched\n",
      "\tTemperature    =\tNone\n",
      "\tDensity        =\t10.5 [g/cm3]\n",
      "\tVolume         =\tNone [cm^3]\n",
      "\tDepletable     =\tTrue\n",
      "\tS(a,b) Tables  \n",
      "\tNuclides       \n",
      "\tU235           =\t0.045        [ao]\n",
      "\tU238           =\t0.955        [ao]\n",
      "\n"
     ]
    }
   ],
   "source": [
    "import openmc\n",
    "# Method 2: Manual definition of U-235 and U-238\n",
    "fuel2 = openmc.Material(name=\"UO2 4.5% enriched\")\n",
    "fuel2.add_nuclide('U235', 0.045)\n",
    "fuel2.add_nuclide('U238', 0.955)\n",
    "fuel2.set_density('g/cm3', 10.5)\n",
    "print(fuel2)\n"
   ]
  },
  {
   "cell_type": "code",
   "execution_count": 7,
   "id": "cc9c909e",
   "metadata": {},
   "outputs": [
    {
     "name": "stdout",
     "output_type": "stream",
     "text": [
      "Material\n",
      "\tID             =\t9\n",
      "\tName           =\tUO2 with atom percents\n",
      "\tTemperature    =\tNone\n",
      "\tDensity        =\t10.5 [g/cm3]\n",
      "\tVolume         =\tNone [cm^3]\n",
      "\tDepletable     =\tTrue\n",
      "\tS(a,b) Tables  \n",
      "\tNuclides       \n",
      "\tU235           =\t4.5          [ao]\n",
      "\tU238           =\t95.5         [ao]\n",
      "\n"
     ]
    }
   ],
   "source": [
    "# Method 3: Using atomic percentage \n",
    "fuel3 = openmc.Material(name=\"UO2 with atom percents\")\n",
    "fuel3.add_nuclide('U235', 4.5, percent_type='ao')\n",
    "fuel3.add_nuclide('U238', 95.5, percent_type='ao')\n",
    "fuel3.set_density('g/cm3', 10.5)\n",
    "print(fuel3)"
   ]
  },
  {
   "cell_type": "markdown",
   "id": "560dcec0",
   "metadata": {},
   "source": [
    "## What is S(α, β) Scattering?\n",
    "\n",
    "**S(α, β)** scattering is used to make neutron simulations more accurate, especially for slow (thermal) neutrons in materials like water or graphite.\n",
    "**In OpenMC** we enable it by adding special thermal scattering data using add_s_alpha_beta().\n"
   ]
  },
  {
   "cell_type": "code",
   "execution_count": 14,
   "id": "51ad28ed",
   "metadata": {},
   "outputs": [
    {
     "name": "stdout",
     "output_type": "stream",
     "text": [
      "Material\n",
      "\tID             =\t16\n",
      "\tName           =\tLight Water\n",
      "\tTemperature    =\tNone\n",
      "\tDensity        =\t1.0 [g/cm3]\n",
      "\tVolume         =\tNone [cm^3]\n",
      "\tDepletable     =\tFalse\n",
      "\tS(a,b) Tables  \n",
      "\tS(a,b)         =\t('c_H_in_H2O', 1.0)\n",
      "\tNuclides       \n",
      "\tH1             =\t1.99968852   [ao]\n",
      "\tH2             =\t0.00031148   [ao]\n",
      "\tO16            =\t0.999621     [ao]\n",
      "\tO17            =\t0.000379     [ao]\n",
      "\n"
     ]
    }
   ],
   "source": [
    "# Applying S(α, β) in OpenMC for light water\n",
    "water = openmc.Material(name=\"Light Water\")\n",
    "water.add_element(\"H\", 2)\n",
    "water.add_element(\"O\", 1)\n",
    "water.set_density(\"g/cm3\", 1.0)\n",
    "water.add_s_alpha_beta('c_H_in_H2O')  # enables thermal scattering data for H in water\n",
    "print(water)"
   ]
  },
  {
   "cell_type": "code",
   "execution_count": null,
   "id": "ebc36ce1-92ee-4302-8ae4-85c4db14596e",
   "metadata": {},
   "outputs": [],
   "source": []
  }
 ],
 "metadata": {
  "kernelspec": {
   "display_name": "Python 3 (ipykernel)",
   "language": "python",
   "name": "python3"
  },
  "language_info": {
   "codemirror_mode": {
    "name": "ipython",
    "version": 3
   },
   "file_extension": ".py",
   "mimetype": "text/x-python",
   "name": "python",
   "nbconvert_exporter": "python",
   "pygments_lexer": "ipython3",
   "version": "3.11.2"
  }
 },
 "nbformat": 4,
 "nbformat_minor": 5
}
